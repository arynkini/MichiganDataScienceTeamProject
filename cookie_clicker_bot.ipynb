{
 "cells": [
  {
   "cell_type": "code",
   "execution_count": 3,
   "metadata": {},
   "outputs": [],
   "source": [
    "from selenium import webdriver\n",
    "from selenium.webdriver.common.action_chains import ActionChains\n",
    "from selenium.webdriver.common.by import By\n",
    "from selenium.webdriver.support.ui import WebDriverWait\n",
    "from selenium.webdriver.support import expected_conditions as EC\n",
    "\n",
    "driver = webdriver.Chrome()\n",
    "driver.maximize_window()"
   ]
  },
  {
   "cell_type": "markdown",
   "metadata": {},
   "source": [
    "##### **Step 1)**\n",
    "Before we get to click on the big coookie... \n",
    "\n",
    "#### **IMPORTANT** \n",
    "there is a slight issue...\n",
    "If you load up the site in your browser, you may notice that, there is a brief loading screen and then an unavoidable language selection popup. This is problematic for us because after you select your language, the site reloads once or twice, breaking the code. \n",
    "\n",
    "If anyone knows how to cross this issue and make the program run without human intervention, let us know. Otherwise, you may start the webdriver and just manually run each cell (See Step 3).\n",
    "\n",
    "TL;DR: Because of skill issue, start webdriver, manually click on all popups, and then manually run every cell starting at Step 3."
   ]
  },
  {
   "cell_type": "markdown",
   "metadata": {},
   "source": [
    "##### **Step 2)**\n",
    "**A Refresher From Last Time** \\\n",
    "Q: What is implicitly_wait? \\\n",
    "A: Sets a global setting to wait up to N seconds whenever anything you are are looking for does not yet exist\n",
    "\n",
    "Q: What is WebDriverWait? \\\n",
    "A: Makes the webdriver wait until condition.\n",
    "\n",
    "**New Stuff** \\\n",
    "Q: What is EC and presence_of_element_located? \\\n",
    "A: Searches for element with:\n",
    "- Locator (e.g. CLASS_NAME, ID, NAME, XPATH, etc.)\n",
    "- Value (what value the locator has)"
   ]
  },
  {
   "cell_type": "markdown",
   "metadata": {},
   "source": [
    "##### **Step 3)**\n",
    "**When you finish loading in / selecting language, rerun every cell from HERE to the bottom (except for driver.quit())**"
   ]
  },
  {
   "cell_type": "code",
   "execution_count": 12,
   "metadata": {},
   "outputs": [],
   "source": [
    "driver.implicitly_wait(10)\n",
    "driver.get(\"https://orteil.dashnet.org/cookieclicker/\")\n",
    "\n",
    "# Backup site T_T\n",
    "#driver.get(\"https://sites.google.com/site/classroom6x/cookie-clicker\")\n",
    "\n",
    "# We use this to create multiple actions and execute them at once (down below)\n",
    "actions = ActionChains(driver)"
   ]
  },
  {
   "cell_type": "code",
   "execution_count": 14,
   "metadata": {},
   "outputs": [],
   "source": [
    "# TODO: Replace the text with whatever the Locator/Values are (also remove quotations):\n",
    "\n",
    "# HINT: The Big Spinning Cooookie\n",
    "cookie = WebDriverWait(driver, 25).until(\n",
    "    EC.presence_of_element_located((By.ID, \"bigCookie\"))\n",
    ")\n",
    "\n",
    "# HINT: How do we track the number of cookies we have\n",
    "cookie_count = WebDriverWait(driver, 25).until(\n",
    "    EC.presence_of_element_located((By.ID, \"cookies\"))\n",
    ")\n"
   ]
  },
  {
   "cell_type": "markdown",
   "metadata": {},
   "source": [
    "**Identifying and Buying Upgrades:** \\\n",
    "What are the parameters of range() ? \n",
    "- range(start, stop, step)\n",
    "\n",
    "We set the parameters of range() to 1, -1, -1 instead of  0, 1, 1 \n",
    "because we want to buy the most expensive (A.K.A. best) upgrades first. \n",
    "\n",
    "Otherwise, we will always buy the worse upgrades until they gradually overprice the next tier (not optimal).\n"
   ]
  },
  {
   "cell_type": "code",
   "execution_count": 15,
   "metadata": {},
   "outputs": [],
   "source": [
    "# TODO: Replace the text with the price of the production method (also remove quotations).\n",
    "# HINT: Click on the \"...\" to reveal more hidden lines until you find something related to price.\n",
    "\n",
    "items = [driver.find_element(By.ID, \"productPrice\" + str(i)) for i in range(1, -1, -1)]"
   ]
  },
  {
   "cell_type": "code",
   "execution_count": 18,
   "metadata": {},
   "outputs": [
    {
     "ename": "WebDriverException",
     "evalue": "Message: disconnected: unable to send message to renderer\n  (failed to check if window was closed: disconnected: not connected to DevTools)\n  (Session info: chrome=118.0.5993.118)\nStacktrace:\n\tGetHandleVerifier [0x00007FF732278EF2+54786]\n\t(No symbol) [0x00007FF7321E5612]\n\t(No symbol) [0x00007FF73209A64B]\n\t(No symbol) [0x00007FF73208751F]\n\t(No symbol) [0x00007FF732087CA3]\n\t(No symbol) [0x00007FF732086816]\n\t(No symbol) [0x00007FF7320A2FE4]\n\t(No symbol) [0x00007FF73211F3E9]\n\t(No symbol) [0x00007FF7320FBE6A]\n\t(No symbol) [0x00007FF732114D02]\n\t(No symbol) [0x00007FF7320FBC43]\n\t(No symbol) [0x00007FF7320D0941]\n\t(No symbol) [0x00007FF7320D1B84]\n\tGetHandleVerifier [0x00007FF7325C7F52+3524194]\n\tGetHandleVerifier [0x00007FF73261D800+3874576]\n\tGetHandleVerifier [0x00007FF732615D7F+3843215]\n\tGetHandleVerifier [0x00007FF732315086+694166]\n\t(No symbol) [0x00007FF7321F0A88]\n\t(No symbol) [0x00007FF7321ECA94]\n\t(No symbol) [0x00007FF7321ECBC2]\n\t(No symbol) [0x00007FF7321DCC83]\n\tBaseThreadInitThunk [0x00007FFDEFD07344+20]\n\tRtlUserThreadStart [0x00007FFDF1CE26B1+33]\n",
     "output_type": "error",
     "traceback": [
      "\u001b[1;31m---------------------------------------------------------------------------\u001b[0m",
      "\u001b[1;31mWebDriverException\u001b[0m                        Traceback (most recent call last)",
      "\u001b[1;32mc:\\Users\\johno\\Downloads\\cookie_clicker_bot.ipynb Cell 9\u001b[0m line \u001b[0;36m9\n\u001b[0;32m      <a href='vscode-notebook-cell:/c%3A/Users/johno/Downloads/cookie_clicker_bot.ipynb#X11sZmlsZQ%3D%3D?line=3'>4</a>\u001b[0m \u001b[39mfor\u001b[39;00m i \u001b[39min\u001b[39;00m \u001b[39mrange\u001b[39m(\u001b[39m500\u001b[39m):\n\u001b[0;32m      <a href='vscode-notebook-cell:/c%3A/Users/johno/Downloads/cookie_clicker_bot.ipynb#X11sZmlsZQ%3D%3D?line=4'>5</a>\u001b[0m \n\u001b[0;32m      <a href='vscode-notebook-cell:/c%3A/Users/johno/Downloads/cookie_clicker_bot.ipynb#X11sZmlsZQ%3D%3D?line=5'>6</a>\u001b[0m     \u001b[39m# Executes actions\u001b[39;00m\n\u001b[0;32m      <a href='vscode-notebook-cell:/c%3A/Users/johno/Downloads/cookie_clicker_bot.ipynb#X11sZmlsZQ%3D%3D?line=6'>7</a>\u001b[0m     \u001b[39m# Click the Cookie! (see beginning for declaration of \"action\")\u001b[39;00m\n\u001b[0;32m      <a href='vscode-notebook-cell:/c%3A/Users/johno/Downloads/cookie_clicker_bot.ipynb#X11sZmlsZQ%3D%3D?line=7'>8</a>\u001b[0m     actions\u001b[39m.\u001b[39mclick(cookie)\n\u001b[1;32m----> <a href='vscode-notebook-cell:/c%3A/Users/johno/Downloads/cookie_clicker_bot.ipynb#X11sZmlsZQ%3D%3D?line=8'>9</a>\u001b[0m     actions\u001b[39m.\u001b[39;49mperform()\n\u001b[0;32m     <a href='vscode-notebook-cell:/c%3A/Users/johno/Downloads/cookie_clicker_bot.ipynb#X11sZmlsZQ%3D%3D?line=10'>11</a>\u001b[0m     \u001b[39m# Finds number of cookies, and\u001b[39;00m\n\u001b[0;32m     <a href='vscode-notebook-cell:/c%3A/Users/johno/Downloads/cookie_clicker_bot.ipynb#X11sZmlsZQ%3D%3D?line=11'>12</a>\u001b[0m     \u001b[39m# splits by [space] and accesses the first value after.\u001b[39;00m\n\u001b[0;32m     <a href='vscode-notebook-cell:/c%3A/Users/johno/Downloads/cookie_clicker_bot.ipynb#X11sZmlsZQ%3D%3D?line=12'>13</a>\u001b[0m     \u001b[39m# Ex: 24 cookies\u001b[39;00m\n\u001b[0;32m     <a href='vscode-notebook-cell:/c%3A/Users/johno/Downloads/cookie_clicker_bot.ipynb#X11sZmlsZQ%3D%3D?line=13'>14</a>\u001b[0m     count \u001b[39m=\u001b[39m cookie_count\u001b[39m.\u001b[39mtext\u001b[39m.\u001b[39msplit(\u001b[39m\"\u001b[39m\u001b[39m \u001b[39m\u001b[39m\"\u001b[39m)[\u001b[39m0\u001b[39m]\n",
      "File \u001b[1;32m~\\AppData\\Local\\Packages\\PythonSoftwareFoundation.Python.3.11_qbz5n2kfra8p0\\LocalCache\\local-packages\\Python311\\site-packages\\selenium\\webdriver\\common\\action_chains.py:94\u001b[0m, in \u001b[0;36mActionChains.perform\u001b[1;34m(self)\u001b[0m\n\u001b[0;32m     92\u001b[0m \u001b[39mdef\u001b[39;00m \u001b[39mperform\u001b[39m(\u001b[39mself\u001b[39m) \u001b[39m-\u001b[39m\u001b[39m>\u001b[39m \u001b[39mNone\u001b[39;00m:\n\u001b[0;32m     93\u001b[0m \u001b[39m    \u001b[39m\u001b[39m\"\"\"Performs all stored actions.\"\"\"\u001b[39;00m\n\u001b[1;32m---> 94\u001b[0m     \u001b[39mself\u001b[39;49m\u001b[39m.\u001b[39;49mw3c_actions\u001b[39m.\u001b[39;49mperform()\n",
      "File \u001b[1;32m~\\AppData\\Local\\Packages\\PythonSoftwareFoundation.Python.3.11_qbz5n2kfra8p0\\LocalCache\\local-packages\\Python311\\site-packages\\selenium\\webdriver\\common\\actions\\action_builder.py:96\u001b[0m, in \u001b[0;36mActionBuilder.perform\u001b[1;34m(self)\u001b[0m\n\u001b[0;32m     94\u001b[0m         enc[\u001b[39m\"\u001b[39m\u001b[39mactions\u001b[39m\u001b[39m\"\u001b[39m]\u001b[39m.\u001b[39mappend(encoded)\n\u001b[0;32m     95\u001b[0m         device\u001b[39m.\u001b[39mactions \u001b[39m=\u001b[39m []\n\u001b[1;32m---> 96\u001b[0m \u001b[39mself\u001b[39;49m\u001b[39m.\u001b[39;49mdriver\u001b[39m.\u001b[39;49mexecute(Command\u001b[39m.\u001b[39;49mW3C_ACTIONS, enc)\n",
      "File \u001b[1;32m~\\AppData\\Local\\Packages\\PythonSoftwareFoundation.Python.3.11_qbz5n2kfra8p0\\LocalCache\\local-packages\\Python311\\site-packages\\selenium\\webdriver\\remote\\webdriver.py:344\u001b[0m, in \u001b[0;36mWebDriver.execute\u001b[1;34m(self, driver_command, params)\u001b[0m\n\u001b[0;32m    342\u001b[0m response \u001b[39m=\u001b[39m \u001b[39mself\u001b[39m\u001b[39m.\u001b[39mcommand_executor\u001b[39m.\u001b[39mexecute(driver_command, params)\n\u001b[0;32m    343\u001b[0m \u001b[39mif\u001b[39;00m response:\n\u001b[1;32m--> 344\u001b[0m     \u001b[39mself\u001b[39;49m\u001b[39m.\u001b[39;49merror_handler\u001b[39m.\u001b[39;49mcheck_response(response)\n\u001b[0;32m    345\u001b[0m     response[\u001b[39m\"\u001b[39m\u001b[39mvalue\u001b[39m\u001b[39m\"\u001b[39m] \u001b[39m=\u001b[39m \u001b[39mself\u001b[39m\u001b[39m.\u001b[39m_unwrap_value(response\u001b[39m.\u001b[39mget(\u001b[39m\"\u001b[39m\u001b[39mvalue\u001b[39m\u001b[39m\"\u001b[39m, \u001b[39mNone\u001b[39;00m))\n\u001b[0;32m    346\u001b[0m     \u001b[39mreturn\u001b[39;00m response\n",
      "File \u001b[1;32m~\\AppData\\Local\\Packages\\PythonSoftwareFoundation.Python.3.11_qbz5n2kfra8p0\\LocalCache\\local-packages\\Python311\\site-packages\\selenium\\webdriver\\remote\\errorhandler.py:229\u001b[0m, in \u001b[0;36mErrorHandler.check_response\u001b[1;34m(self, response)\u001b[0m\n\u001b[0;32m    227\u001b[0m         alert_text \u001b[39m=\u001b[39m value[\u001b[39m\"\u001b[39m\u001b[39malert\u001b[39m\u001b[39m\"\u001b[39m]\u001b[39m.\u001b[39mget(\u001b[39m\"\u001b[39m\u001b[39mtext\u001b[39m\u001b[39m\"\u001b[39m)\n\u001b[0;32m    228\u001b[0m     \u001b[39mraise\u001b[39;00m exception_class(message, screen, stacktrace, alert_text)  \u001b[39m# type: ignore[call-arg]  # mypy is not smart enough here\u001b[39;00m\n\u001b[1;32m--> 229\u001b[0m \u001b[39mraise\u001b[39;00m exception_class(message, screen, stacktrace)\n",
      "\u001b[1;31mWebDriverException\u001b[0m: Message: disconnected: unable to send message to renderer\n  (failed to check if window was closed: disconnected: not connected to DevTools)\n  (Session info: chrome=118.0.5993.118)\nStacktrace:\n\tGetHandleVerifier [0x00007FF732278EF2+54786]\n\t(No symbol) [0x00007FF7321E5612]\n\t(No symbol) [0x00007FF73209A64B]\n\t(No symbol) [0x00007FF73208751F]\n\t(No symbol) [0x00007FF732087CA3]\n\t(No symbol) [0x00007FF732086816]\n\t(No symbol) [0x00007FF7320A2FE4]\n\t(No symbol) [0x00007FF73211F3E9]\n\t(No symbol) [0x00007FF7320FBE6A]\n\t(No symbol) [0x00007FF732114D02]\n\t(No symbol) [0x00007FF7320FBC43]\n\t(No symbol) [0x00007FF7320D0941]\n\t(No symbol) [0x00007FF7320D1B84]\n\tGetHandleVerifier [0x00007FF7325C7F52+3524194]\n\tGetHandleVerifier [0x00007FF73261D800+3874576]\n\tGetHandleVerifier [0x00007FF732615D7F+3843215]\n\tGetHandleVerifier [0x00007FF732315086+694166]\n\t(No symbol) [0x00007FF7321F0A88]\n\t(No symbol) [0x00007FF7321ECA94]\n\t(No symbol) [0x00007FF7321ECBC2]\n\t(No symbol) [0x00007FF7321DCC83]\n\tBaseThreadInitThunk [0x00007FFDEFD07344+20]\n\tRtlUserThreadStart [0x00007FFDF1CE26B1+33]\n"
     ]
    }
   ],
   "source": [
    "# Clicks the cookie 5000x\n",
    "actions = ActionChains(driver)\n",
    "items = [driver.find_element(By.ID, \"productPrice\" + str(i)) for i in range(1, -1, -1)]\n",
    "for i in range(500):\n",
    "\n",
    "    # Executes actions\n",
    "    # Click the Cookie! (see beginning for declaration of \"action\")\n",
    "    actions.click(cookie)\n",
    "    actions.perform()\n",
    "\n",
    "    # Finds number of cookies, and\n",
    "    # splits by [space] and accesses the first value after.\n",
    "    # Ex: 24 cookies\n",
    "    count = cookie_count.text.split(\" \")[0]\n",
    "    \n",
    "    # upgrades\n",
    "    for item in items:\n",
    "        value = int(item.text.replace(',', '').replace('.','').replace(' million','00000'))\n",
    "        if value <= int(count.replace(',', '')):\n",
    "\n",
    "            # Create an ActionChains called upgrade_actions (also remove quotations)\n",
    "            upgrade_actions = ActionChains(driver)\n",
    "            upgrade_actions.move_to_element(item)\n",
    "            upgrade_actions.click(item)\n",
    "            upgrade_actions.perform()\n",
    "\n",
    "            # TODO: Define a set of actions using upgrade_actions.\n",
    "            # These actions include a series of  \"going to/moving to the item\", \"clicking the item\", and \"a call to perform all of those actions\"\n",
    "            # There are multiple ways to do this using 3 lines or less.\n",
    "            # For information, check out the ActionChains documentation and look above."
   ]
  },
  {
   "cell_type": "code",
   "execution_count": null,
   "metadata": {},
   "outputs": [],
   "source": [
    "# TERMINATE THE PROCESS\n",
    "# Don't run this with the rest of the code\n",
    "\n",
    "# driver.quit()"
   ]
  }
 ],
 "metadata": {
  "kernelspec": {
   "display_name": "Python 3",
   "language": "python",
   "name": "python3"
  },
  "language_info": {
   "codemirror_mode": {
    "name": "ipython",
    "version": 3
   },
   "file_extension": ".py",
   "mimetype": "text/x-python",
   "name": "python",
   "nbconvert_exporter": "python",
   "pygments_lexer": "ipython3",
   "version": "3.11.6"
  }
 },
 "nbformat": 4,
 "nbformat_minor": 2
}
