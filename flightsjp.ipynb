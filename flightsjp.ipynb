{
 "cells": [
  {
   "cell_type": "code",
   "execution_count": 18,
   "metadata": {},
   "outputs": [],
   "source": [
    "#importing everything we need\n",
    "from selenium import webdriver\n",
    "from selenium.webdriver.common.action_chains import ActionChains\n",
    "from selenium.webdriver.common.by import By\n",
    "from selenium.webdriver.support.ui import WebDriverWait\n",
    "from selenium.webdriver.support import expected_conditions as EC\n",
    "from selenium.webdriver.chrome.service import Service"
   ]
  },
  {
   "cell_type": "code",
   "execution_count": 19,
   "metadata": {},
   "outputs": [],
   "source": [
    "#creates a service instance to use the webdriber\n",
    "service = Service()"
   ]
  },
  {
   "cell_type": "code",
   "execution_count": 20,
   "metadata": {},
   "outputs": [],
   "source": [
    "#creates chrome path\n",
    "chrome_options = webdriver.ChromeOptions()\n",
    "chrome_options.add_experimental_option(\"detach\", True) # this keeps the window open post execution/errors/ changing frames (explained later)\n",
    "\n",
    "prefs = {\"download.default_directory\": '/Users/justinpaul/Downloads',  # note need to change this\n",
    "         \"directory_upgrade\": True}\n",
    "chrome_options.add_experimental_option(\"prefs\", prefs)\n",
    "\n",
    "#creates a chrome webdriver \n",
    "driver = webdriver.Chrome(service=service, options=chrome_options)\n",
    "driver.maximize_window()\n",
    "driver.implicitly_wait(10)"
   ]
  },
  {
   "cell_type": "code",
   "execution_count": 21,
   "metadata": {},
   "outputs": [],
   "source": [
    "# We use this to create multiple actions and execute them at once\n",
    "actions = ActionChains(driver)\n",
    "\n",
    "#gets driver for flight website \n",
    "chromeFlights = 'https://www.google.com/travel/flights'\n",
    "driver.get(chromeFlights)"
   ]
  },
  {
   "cell_type": "code",
   "execution_count": 5,
   "metadata": {},
   "outputs": [],
   "source": [
    "#asking the user for their phone number \n",
    "phone_number = input(\"Please enter your phone number: \")\n",
    "max_price = input(\"What is the max you are willing to pay: \")\n",
    "nearest_airport = input(\"Enter your city: \")"
   ]
  },
  {
   "cell_type": "code",
   "execution_count": null,
   "metadata": {},
   "outputs": [],
   "source": [
    "location = driver.find_element_by_name('yrrRie')\n",
    "location.send_keys(nearest_airport)"
   ]
  },
  {
   "cell_type": "code",
   "execution_count": null,
   "metadata": {},
   "outputs": [],
   "source": [
    "# Find the element containing the price (you'll need to inspect the webpage to find the specific element)\n",
    "# For example, if the price is in a <span> element with a class 'price':\n",
    "price_element = driver.find_element_by_class_name('price')\n",
    "\n",
    "# Get the text content of the element\n",
    "price = price_element.text\n",
    "\n",
    "# Print or do further processing with the price\n",
    "print('The price is:', price)"
   ]
  },
  {
   "cell_type": "code",
   "execution_count": 23,
   "metadata": {},
   "outputs": [
    {
     "ename": "NoSuchWindowException",
     "evalue": "Message: no such window: target window already closed\nfrom unknown error: web view not found\n  (Session info: chrome=118.0.5993.117)\nStacktrace:\n0   chromedriver                        0x0000000101dffe08 chromedriver + 5025288\n1   chromedriver                        0x0000000101df6c23 chromedriver + 4987939\n2   chromedriver                        0x0000000101998e67 chromedriver + 409191\n3   chromedriver                        0x000000010196cbe4 chromedriver + 228324\n4   chromedriver                        0x0000000101a14ebf chromedriver + 917183\n5   chromedriver                        0x0000000101a2ab56 chromedriver + 1006422\n6   chromedriver                        0x0000000101a0f2b3 chromedriver + 893619\n7   chromedriver                        0x00000001019d9eb9 chromedriver + 675513\n8   chromedriver                        0x00000001019db0ee chromedriver + 680174\n9   chromedriver                        0x0000000101dc1819 chromedriver + 4769817\n10  chromedriver                        0x0000000101dc6893 chromedriver + 4790419\n11  chromedriver                        0x0000000101dcd66e chromedriver + 4818542\n12  chromedriver                        0x0000000101dc75bd chromedriver + 4793789\n13  chromedriver                        0x0000000101d9998c chromedriver + 4606348\n14  chromedriver                        0x0000000101de5b78 chromedriver + 4918136\n15  chromedriver                        0x0000000101de5d30 chromedriver + 4918576\n16  chromedriver                        0x0000000101df685e chromedriver + 4986974\n17  libsystem_pthread.dylib             0x00007ff80648d4e1 _pthread_start + 125\n18  libsystem_pthread.dylib             0x00007ff806488f6b thread_start + 15\n",
     "output_type": "error",
     "traceback": [
      "\u001b[0;31m---------------------------------------------------------------------------\u001b[0m",
      "\u001b[0;31mNoSuchWindowException\u001b[0m                     Traceback (most recent call last)",
      "\u001b[1;32m/Users/aryankini/Downloads/flight thing/flightsjp.ipynb Cell 8\u001b[0m line \u001b[0;36m3\n\u001b[1;32m      <a href='vscode-notebook-cell:/Users/aryankini/Downloads/flight%20thing/flightsjp.ipynb#X21sZmlsZQ%3D%3D?line=0'>1</a>\u001b[0m \u001b[39m#looping through the table \u001b[39;00m\n\u001b[1;32m      <a href='vscode-notebook-cell:/Users/aryankini/Downloads/flight%20thing/flightsjp.ipynb#X21sZmlsZQ%3D%3D?line=1'>2</a>\u001b[0m xpResultTable \u001b[39m=\u001b[39m \u001b[39m'\u001b[39m\u001b[39m//*[@class = \u001b[39m\u001b[39m\"\u001b[39m\u001b[39mResultWrapper\u001b[39m\u001b[39m\"\u001b[39m\u001b[39m]\u001b[39m\u001b[39m'\u001b[39m\n\u001b[0;32m----> <a href='vscode-notebook-cell:/Users/aryankini/Downloads/flight%20thing/flightsjp.ipynb#X21sZmlsZQ%3D%3D?line=2'>3</a>\u001b[0m flightContainers \u001b[39m=\u001b[39m driver\u001b[39m.\u001b[39;49mfind_elements(By\u001b[39m.\u001b[39;49mXPATH, xpResultTable)\n\u001b[1;32m      <a href='vscode-notebook-cell:/Users/aryankini/Downloads/flight%20thing/flightsjp.ipynb#X21sZmlsZQ%3D%3D?line=3'>4</a>\u001b[0m flightList \u001b[39m=\u001b[39m [flight\u001b[39m.\u001b[39mtext \u001b[39mfor\u001b[39;00m flight \u001b[39min\u001b[39;00m flightContainers]\n\u001b[1;32m      <a href='vscode-notebook-cell:/Users/aryankini/Downloads/flight%20thing/flightsjp.ipynb#X21sZmlsZQ%3D%3D?line=6'>7</a>\u001b[0m \u001b[39m# xpath for the destination block (i think)s\u001b[39;00m\n\u001b[1;32m      <a href='vscode-notebook-cell:/Users/aryankini/Downloads/flight%20thing/flightsjp.ipynb#X21sZmlsZQ%3D%3D?line=7'>8</a>\u001b[0m \u001b[39m#//*[@id=\"i21\"]/div[6]/div[2]/div[2]/div[1]/div/div/div\"\"\u001b[39;00m\n",
      "File \u001b[0;32m~/.pyenv/versions/3.11.5/lib/python3.11/site-packages/selenium/webdriver/remote/webdriver.py:771\u001b[0m, in \u001b[0;36mWebDriver.find_elements\u001b[0;34m(self, by, value)\u001b[0m\n\u001b[1;32m    767\u001b[0m     value \u001b[39m=\u001b[39m \u001b[39mf\u001b[39m\u001b[39m'\u001b[39m\u001b[39m[name=\u001b[39m\u001b[39m\"\u001b[39m\u001b[39m{\u001b[39;00mvalue\u001b[39m}\u001b[39;00m\u001b[39m\"\u001b[39m\u001b[39m]\u001b[39m\u001b[39m'\u001b[39m\n\u001b[1;32m    769\u001b[0m \u001b[39m# Return empty list if driver returns null\u001b[39;00m\n\u001b[1;32m    770\u001b[0m \u001b[39m# See https://github.com/SeleniumHQ/selenium/issues/4555\u001b[39;00m\n\u001b[0;32m--> 771\u001b[0m \u001b[39mreturn\u001b[39;00m \u001b[39mself\u001b[39;49m\u001b[39m.\u001b[39;49mexecute(Command\u001b[39m.\u001b[39;49mFIND_ELEMENTS, {\u001b[39m\"\u001b[39;49m\u001b[39musing\u001b[39;49m\u001b[39m\"\u001b[39;49m: by, \u001b[39m\"\u001b[39;49m\u001b[39mvalue\u001b[39;49m\u001b[39m\"\u001b[39;49m: value})[\u001b[39m\"\u001b[39m\u001b[39mvalue\u001b[39m\u001b[39m\"\u001b[39m] \u001b[39mor\u001b[39;00m []\n",
      "File \u001b[0;32m~/.pyenv/versions/3.11.5/lib/python3.11/site-packages/selenium/webdriver/remote/webdriver.py:347\u001b[0m, in \u001b[0;36mWebDriver.execute\u001b[0;34m(self, driver_command, params)\u001b[0m\n\u001b[1;32m    345\u001b[0m response \u001b[39m=\u001b[39m \u001b[39mself\u001b[39m\u001b[39m.\u001b[39mcommand_executor\u001b[39m.\u001b[39mexecute(driver_command, params)\n\u001b[1;32m    346\u001b[0m \u001b[39mif\u001b[39;00m response:\n\u001b[0;32m--> 347\u001b[0m     \u001b[39mself\u001b[39;49m\u001b[39m.\u001b[39;49merror_handler\u001b[39m.\u001b[39;49mcheck_response(response)\n\u001b[1;32m    348\u001b[0m     response[\u001b[39m\"\u001b[39m\u001b[39mvalue\u001b[39m\u001b[39m\"\u001b[39m] \u001b[39m=\u001b[39m \u001b[39mself\u001b[39m\u001b[39m.\u001b[39m_unwrap_value(response\u001b[39m.\u001b[39mget(\u001b[39m\"\u001b[39m\u001b[39mvalue\u001b[39m\u001b[39m\"\u001b[39m, \u001b[39mNone\u001b[39;00m))\n\u001b[1;32m    349\u001b[0m     \u001b[39mreturn\u001b[39;00m response\n",
      "File \u001b[0;32m~/.pyenv/versions/3.11.5/lib/python3.11/site-packages/selenium/webdriver/remote/errorhandler.py:229\u001b[0m, in \u001b[0;36mErrorHandler.check_response\u001b[0;34m(self, response)\u001b[0m\n\u001b[1;32m    227\u001b[0m         alert_text \u001b[39m=\u001b[39m value[\u001b[39m\"\u001b[39m\u001b[39malert\u001b[39m\u001b[39m\"\u001b[39m]\u001b[39m.\u001b[39mget(\u001b[39m\"\u001b[39m\u001b[39mtext\u001b[39m\u001b[39m\"\u001b[39m)\n\u001b[1;32m    228\u001b[0m     \u001b[39mraise\u001b[39;00m exception_class(message, screen, stacktrace, alert_text)  \u001b[39m# type: ignore[call-arg]  # mypy is not smart enough here\u001b[39;00m\n\u001b[0;32m--> 229\u001b[0m \u001b[39mraise\u001b[39;00m exception_class(message, screen, stacktrace)\n",
      "\u001b[0;31mNoSuchWindowException\u001b[0m: Message: no such window: target window already closed\nfrom unknown error: web view not found\n  (Session info: chrome=118.0.5993.117)\nStacktrace:\n0   chromedriver                        0x0000000101dffe08 chromedriver + 5025288\n1   chromedriver                        0x0000000101df6c23 chromedriver + 4987939\n2   chromedriver                        0x0000000101998e67 chromedriver + 409191\n3   chromedriver                        0x000000010196cbe4 chromedriver + 228324\n4   chromedriver                        0x0000000101a14ebf chromedriver + 917183\n5   chromedriver                        0x0000000101a2ab56 chromedriver + 1006422\n6   chromedriver                        0x0000000101a0f2b3 chromedriver + 893619\n7   chromedriver                        0x00000001019d9eb9 chromedriver + 675513\n8   chromedriver                        0x00000001019db0ee chromedriver + 680174\n9   chromedriver                        0x0000000101dc1819 chromedriver + 4769817\n10  chromedriver                        0x0000000101dc6893 chromedriver + 4790419\n11  chromedriver                        0x0000000101dcd66e chromedriver + 4818542\n12  chromedriver                        0x0000000101dc75bd chromedriver + 4793789\n13  chromedriver                        0x0000000101d9998c chromedriver + 4606348\n14  chromedriver                        0x0000000101de5b78 chromedriver + 4918136\n15  chromedriver                        0x0000000101de5d30 chromedriver + 4918576\n16  chromedriver                        0x0000000101df685e chromedriver + 4986974\n17  libsystem_pthread.dylib             0x00007ff80648d4e1 _pthread_start + 125\n18  libsystem_pthread.dylib             0x00007ff806488f6b thread_start + 15\n"
     ]
    }
   ],
   "source": [
    "#looping through the table \n",
    "xpResultTable = '//*[@class = \"ResultWrapper\"]'\n",
    "flightContainers = driver.find_elements(By.XPATH, xpResultTable)\n",
    "flightList = [flight.text for flight in flightContainers]\n",
    "\n",
    "\n",
    "# xpath for the destination block (i think)s\n",
    "#//*[@id=\"i21\"]/div[6]/div[2]/div[2]/div[1]/div/div/div\"\""
   ]
  }
 ],
 "metadata": {
  "kernelspec": {
   "display_name": "Python 3",
   "language": "python",
   "name": "python3"
  },
  "language_info": {
   "codemirror_mode": {
    "name": "ipython",
    "version": 3
   },
   "file_extension": ".py",
   "mimetype": "text/x-python",
   "name": "python",
   "nbconvert_exporter": "python",
   "pygments_lexer": "ipython3",
   "version": "3.11.5"
  }
 },
 "nbformat": 4,
 "nbformat_minor": 2
}
